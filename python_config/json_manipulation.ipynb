{
 "cells": [
  {
   "cell_type": "markdown",
   "metadata": {},
   "source": [
    "# 1. json dumps"
   ]
  },
  {
   "cell_type": "code",
   "execution_count": 10,
   "metadata": {},
   "outputs": [
    {
     "name": "stdout",
     "output_type": "stream",
     "text": [
      "json format after dumps dict structure : \n",
      "{\"name\": \"BATATA\", \"age\": 30}\n",
      "type of dict_1_json is as follow :  <class 'str'>\n"
     ]
    }
   ],
   "source": [
    "import json\n",
    "\n",
    "# from dict structure to json \n",
    "\n",
    "dict_1 = {\"name\": \"BATATA\",\n",
    "      \"age\": 30}\n",
    "\n",
    "\"\"\"\n",
    "By using json.dumps with dict\n",
    "we get json string\n",
    "\"\"\"\n",
    "\n",
    "dict_1_json = json.dumps(dict_1)\n",
    "print(\"json format after dumps dict structure : \")\n",
    "print(dict_1_json)\n",
    "print(\"type of dict_1_json is as follow : \", type(dict_1_json))"
   ]
  },
  {
   "cell_type": "markdown",
   "metadata": {},
   "source": [
    "# 2. json loads"
   ]
  },
  {
   "cell_type": "code",
   "execution_count": 3,
   "metadata": {},
   "outputs": [
    {
     "name": "stdout",
     "output_type": "stream",
     "text": [
      "dict format after loads json string\n",
      "{'name': 'BATATA', 'age': 30}\n",
      "\n",
      "type of dict_2 is as follow :  <class 'dict'>\n"
     ]
    }
   ],
   "source": [
    "dict_2 = json.loads(dict_1_json)\n",
    "print(\"dict format after loads json string\")\n",
    "print(dict_2)\n",
    "print()\n",
    "print(\"type of dict_2 is as follow : \", type(dict_2))\n"
   ]
  },
  {
   "cell_type": "markdown",
   "metadata": {},
   "source": [
    "# 3. Save dictionnay as json file"
   ]
  },
  {
   "cell_type": "code",
   "execution_count": 14,
   "metadata": {},
   "outputs": [],
   "source": [
    "with open(\"data.json\", \"w\") as file:\n",
    "    json.dump(dict_2, file, indent=2)"
   ]
  },
  {
   "cell_type": "markdown",
   "metadata": {},
   "source": [
    "# 4. Load json file as dictionnary"
   ]
  },
  {
   "cell_type": "code",
   "execution_count": 15,
   "metadata": {},
   "outputs": [
    {
     "name": "stdout",
     "output_type": "stream",
     "text": [
      "data from loead json : \n",
      "{'name': 'BATATA', 'age': 30}\n",
      "\n",
      "type of data is as follow :  <class 'dict'>\n"
     ]
    }
   ],
   "source": [
    "with open(\"data.json\", \"r\") as file:\n",
    "    data = json.load(file)\n",
    "print(\"data from loead json : \")\n",
    "print(data)\n",
    "print()\n",
    "print(\"type of data is as follow : \", type(data))"
   ]
  },
  {
   "cell_type": "markdown",
   "metadata": {},
   "source": [
    "# 5. Convert dictionnary to pandas Dataframe"
   ]
  },
  {
   "cell_type": "code",
   "execution_count": 16,
   "metadata": {},
   "outputs": [
    {
     "name": "stdout",
     "output_type": "stream",
     "text": [
      "Dataframe from modified dictionnary : \n",
      "     name  age\n",
      "0  BATATA   30\n",
      "\n",
      "index of Dataframe : \n",
      "RangeIndex(start=0, stop=1, step=1)\n"
     ]
    }
   ],
   "source": [
    "import pandas as pd \n",
    "\n",
    "\"\"\"\n",
    "To pass a dictionnary to the dataframe \n",
    "we need twos items : \n",
    "                    (i) index\n",
    "                    (ii) list of values\n",
    "for our example dict_1 : the first element (\"name\":\"BATATA\") of dict\n",
    "can be expressed as follow : \"name\" : [\"BATATA\"]\n",
    "then, we do the same for the secon element (\"age\" : 30) ==> \"age\" : [30]\n",
    "\"\"\"\n",
    "\n",
    "dict_1_for_df = {\"name\" : [\"BATATA\"], \n",
    "                 \"age\" : [30]}\n",
    "\n",
    "df1 = pd.DataFrame.from_dict(dict_1_for_df)\n",
    "print(\"Dataframe from modified dictionnary : \")\n",
    "print(df1)\n",
    "print()\n",
    "print(\"index of Dataframe : \")\n",
    "print(df1.index)\n"
   ]
  },
  {
   "cell_type": "markdown",
   "metadata": {},
   "source": [
    "# 6. Example of api consumption with json "
   ]
  },
  {
   "cell_type": "code",
   "execution_count": 21,
   "metadata": {},
   "outputs": [
    {
     "name": "stdout",
     "output_type": "stream",
     "text": [
      "data_dict : \n",
      "{'age': [46], 'education': ['Master degree'], 'marital status': ['Married'], 'gender': ['Male'], 'hours per week': [60]}\n",
      "\n",
      "type of data_dict :  <class 'dict'>\n",
      "\n",
      "the data frame from dict generated : \n",
      "   age      education marital status gender  hours per week\n",
      "0   46  Master degree        Married   Male              60\n",
      "\n",
      "columns of Dataframe :  ['age', 'education', 'marital status', 'gender', 'hours per week']\n"
     ]
    }
   ],
   "source": [
    "\"\"\"\n",
    "In the contexte of API dedicated for consumpution of prediction model \n",
    "the data will send as json format \n",
    "for instance our API predict the income salary from the employee informations \n",
    "then the data sended is \"x_new\" with employee informations\n",
    "\"\"\"\n",
    "\n",
    "emp_infos = {\"age\":[46],\n",
    "         \"education\":[\"Master degree\"],\n",
    "         \"marital status\":[\"Married\"],\n",
    "         \"gender\":[\"Male\"],\n",
    "         \"hours per week\":[60]}\n",
    "\n",
    "data = json.dumps({\"channel\":\"Workspace\",\n",
    "                   \"Type\":\"Real-time-prediction\",\n",
    "                   \"data\":emp_infos\n",
    "                  })\n",
    "\n",
    "def consume_json_data(data):\n",
    "    \"\"\"\n",
    "    loads json data as dictionnary format\n",
    "    the key \"data\" of the dict contains the employee informations\n",
    "    then we have data_dict for employee infromations\n",
    "    the data_dict has index and data as list ==> we can read as datframe\n",
    "    dataframe.from_dict generates dataframe of employee infrormations\n",
    "    \n",
    "    args : \n",
    "     data : contains alls data (api data + employee informations)\n",
    "     \n",
    "    \"\"\"\n",
    "    data_dict = json.loads(data)[\"data\"]\n",
    "    print(\"data_dict : \")\n",
    "    print(data_dict)\n",
    "    print()\n",
    "    print(\"type of data_dict : \", type(data_dict))\n",
    "    print()\n",
    "    data_df = pd.DataFrame.from_dict(data_dict)\n",
    "    print(\"the data frame from dict generated : \")\n",
    "    print(data_df)\n",
    "    print()\n",
    "    print(\"columns of Dataframe : \", list(data_df.columns))\n",
    "    \n",
    "consume_json_data(data)"
   ]
  }
 ],
 "metadata": {
  "kernelspec": {
   "display_name": "Python 3",
   "language": "python",
   "name": "python3"
  },
  "language_info": {
   "codemirror_mode": {
    "name": "ipython",
    "version": 3
   },
   "file_extension": ".py",
   "mimetype": "text/x-python",
   "name": "python",
   "nbconvert_exporter": "python",
   "pygments_lexer": "ipython3",
   "version": "3.8.3"
  }
 },
 "nbformat": 4,
 "nbformat_minor": 4
}
