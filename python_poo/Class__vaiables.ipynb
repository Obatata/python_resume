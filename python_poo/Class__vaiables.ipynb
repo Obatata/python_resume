{
 "cells": [
  {
   "cell_type": "code",
   "execution_count": 23,
   "metadata": {},
   "outputs": [],
   "source": [
    "class Employee:\n",
    "    raise_amount = 1.04\n",
    "    def __init__(self,first, last, pay):\n",
    "        self.first = first\n",
    "        self.last = last\n",
    "        self.pay = pay\n",
    "        \n",
    "    def fullname(self):\n",
    "        return '{} {}'.format(self.first, self.last)\n",
    "    \n",
    "    def apply_raise(self):\n",
    "        self.pay = int(self.pay * Employee.raise_amount)"
   ]
  },
  {
   "cell_type": "code",
   "execution_count": 24,
   "metadata": {},
   "outputs": [
    {
     "name": "stdout",
     "output_type": "stream",
     "text": [
      "30000\n",
      "31200\n"
     ]
    }
   ],
   "source": [
    "emp_1 = Employee(\"Oussama\", \"BATATA\", 30000)\n",
    "emp_2 = Employee(\"Ahmed\", \"BARAKAT\", 15000)\n",
    "\n",
    "print(emp_1.pay)\n",
    "emp_1.apply_raise()\n",
    "print(emp_1.pay)\n",
    "\n"
   ]
  },
  {
   "cell_type": "markdown",
   "metadata": {},
   "source": [
    "### Update class variables with class"
   ]
  },
  {
   "cell_type": "code",
   "execution_count": 25,
   "metadata": {},
   "outputs": [],
   "source": [
    "Employee.raise_amount = 2.04"
   ]
  },
  {
   "cell_type": "code",
   "execution_count": 26,
   "metadata": {},
   "outputs": [
    {
     "name": "stdout",
     "output_type": "stream",
     "text": [
      "31200\n",
      "63648\n"
     ]
    }
   ],
   "source": [
    "print(emp_1.pay)\n",
    "emp_1.apply_raise()\n",
    "print(emp_1.pay)\n"
   ]
  },
  {
   "cell_type": "markdown",
   "metadata": {},
   "source": [
    "### Update class variables from object "
   ]
  },
  {
   "cell_type": "code",
   "execution_count": 27,
   "metadata": {},
   "outputs": [],
   "source": [
    "emp_1.raise_amount = 5.05"
   ]
  },
  {
   "cell_type": "code",
   "execution_count": 28,
   "metadata": {},
   "outputs": [
    {
     "name": "stdout",
     "output_type": "stream",
     "text": [
      "63648\n",
      "raise_amount from emp_1 :  5.05\n",
      "129841\n"
     ]
    }
   ],
   "source": [
    "\"\"\"\n",
    "Update with object emp_1\n",
    "\"\"\"\n",
    "\n",
    "print(emp_1.pay)\n",
    "print(\"raise_amount from emp_1 : \", emp_1.raise_amount)\n",
    "emp_1.apply_raise()\n",
    "print(emp_1.pay)\n"
   ]
  },
  {
   "cell_type": "code",
   "execution_count": 29,
   "metadata": {},
   "outputs": [
    {
     "name": "stdout",
     "output_type": "stream",
     "text": [
      "15000\n",
      "raise_amount from emp_2 :  2.04\n",
      "30600\n"
     ]
    }
   ],
   "source": [
    "\"\"\" \n",
    "Check the update on object emp_2\n",
    "\"\"\"\n",
    "\n",
    "print(emp_2.pay)\n",
    "print(\"raise_amount from emp_2 : \", emp_2.raise_amount)\n",
    "emp_2.apply_raise()\n",
    "print(emp_2.pay)\n"
   ]
  }
 ],
 "metadata": {
  "kernelspec": {
   "display_name": "Python 3",
   "language": "python",
   "name": "python3"
  },
  "language_info": {
   "codemirror_mode": {
    "name": "ipython",
    "version": 3
   },
   "file_extension": ".py",
   "mimetype": "text/x-python",
   "name": "python",
   "nbconvert_exporter": "python",
   "pygments_lexer": "ipython3",
   "version": "3.8.3"
  }
 },
 "nbformat": 4,
 "nbformat_minor": 4
}
