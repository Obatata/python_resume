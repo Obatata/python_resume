{
 "cells": [
  {
   "cell_type": "markdown",
   "metadata": {},
   "source": [
    "### Initialisation d'un object :  __init__ "
   ]
  },
  {
   "cell_type": "code",
   "execution_count": 5,
   "metadata": {},
   "outputs": [
    {
     "name": "stdout",
     "output_type": "stream",
     "text": [
      "name toto, weight 100\n"
     ]
    }
   ],
   "source": [
    "class mouton:\n",
    "    def __init__(self, name, weight):\n",
    "        self.name = name\n",
    "        self.weight = weight\n",
    "mt = mouton(\"toto\", 100)\n",
    "print(f'name {mt.name}, weight {mt.weight}')"
   ]
  },
  {
   "cell_type": "markdown",
   "metadata": {},
   "source": [
    "### Affichage (print) d'un objet "
   ]
  },
  {
   "cell_type": "code",
   "execution_count": 6,
   "metadata": {},
   "outputs": [
    {
     "name": "stdout",
     "output_type": "stream",
     "text": [
      "name toto et weight 100 \n"
     ]
    }
   ],
   "source": [
    "class mouton:\n",
    "    def __init__(self, name, weight):\n",
    "        self.name = name\n",
    "        self.weight = weight\n",
    "    def __repr__(self):\n",
    "        return \"name {} et weight {} \".format(self.name, self.weight)\n",
    "    \n",
    "mt = mouton(\"toto\", 100)\n",
    "print(mt)"
   ]
  },
  {
   "cell_type": "markdown",
   "metadata": {},
   "source": [
    "### Opérateur equal __eq__"
   ]
  },
  {
   "cell_type": "code",
   "execution_count": 12,
   "metadata": {},
   "outputs": [
    {
     "name": "stdout",
     "output_type": "stream",
     "text": [
      " not same ! \n"
     ]
    }
   ],
   "source": [
    "class mouton:\n",
    "    def __init__(self, name, weight):\n",
    "        self.name = name\n",
    "        self.weight = weight\n",
    "    def __eq__(self, other):\n",
    "        return  self.name == other.name and self.weight == other.weight\n",
    "        return False\n",
    "    \n",
    "    \n",
    "mt1 = mouton(\"toto\", 100)\n",
    "mt2 = mouton(\"toto\", 100)\n",
    "mt3 = mouton(\"titi\", 130)\n",
    "if mt1==mt3:\n",
    "    print(\"yes they are the same \")\n",
    "else: \n",
    "    print(\" not same ! \")"
   ]
  },
  {
   "cell_type": "code",
   "execution_count": null,
   "metadata": {},
   "outputs": [],
   "source": []
  },
  {
   "cell_type": "code",
   "execution_count": null,
   "metadata": {},
   "outputs": [],
   "source": []
  }
 ],
 "metadata": {
  "kernelspec": {
   "display_name": "Python 3",
   "language": "python",
   "name": "python3"
  },
  "language_info": {
   "codemirror_mode": {
    "name": "ipython",
    "version": 3
   },
   "file_extension": ".py",
   "mimetype": "text/x-python",
   "name": "python",
   "nbconvert_exporter": "python",
   "pygments_lexer": "ipython3",
   "version": "3.7.4"
  }
 },
 "nbformat": 4,
 "nbformat_minor": 4
}
