{
 "cells": [
  {
   "cell_type": "markdown",
   "metadata": {},
   "source": [
    "# 1. Classmethods"
   ]
  },
  {
   "cell_type": "code",
   "execution_count": 11,
   "metadata": {},
   "outputs": [],
   "source": [
    "class Employee:\n",
    "    \n",
    "    num_of_employees = 0\n",
    "    raise_amount = 1.04\n",
    "    def __init__(self,first, last, pay):\n",
    "        self.first = first\n",
    "        self.last = last\n",
    "        self.pay = pay\n",
    "        \n",
    "        Employee.num_of_employees +=1\n",
    "            \n",
    "    def fullname(self):\n",
    "        return '{} {}'.format(self.first, self.last)\n",
    "\n",
    "    def apply_raise(self):\n",
    "        self.pay = int(self.pay * self.raise_amount)\n",
    "        \n",
    "    @classmethod\n",
    "    def set_raise_amt(cls, amount):\n",
    "        cls.raise_amount = amount\n",
    "        \n",
    "    @classmethod\n",
    "    def create_from_string(cls, str_empl):\n",
    "        first, last, pay = str_empl.split(\"-\")\n",
    "        return cls(first, last, pay)\n",
    "\n",
    "    "
   ]
  },
  {
   "cell_type": "code",
   "execution_count": null,
   "metadata": {},
   "outputs": [],
   "source": []
  },
  {
   "cell_type": "markdown",
   "metadata": {},
   "source": [
    "### Using classmethod from class"
   ]
  },
  {
   "cell_type": "code",
   "execution_count": null,
   "metadata": {},
   "outputs": [],
   "source": []
  },
  {
   "cell_type": "code",
   "execution_count": 7,
   "metadata": {},
   "outputs": [
    {
     "name": "stdout",
     "output_type": "stream",
     "text": [
      "1.05\n",
      "1.05\n",
      "1.05\n"
     ]
    }
   ],
   "source": [
    "emp_1 = Employee(\"Oussama\", \"BATATA\", 30000)\n",
    "emp_2 = Employee(\"Ahmed\", \"BARAKAT\", 15000)\n",
    "\n",
    "\"\"\"\n",
    "class method from class\n",
    "\"\"\"\n",
    "Employee.set_raise_amt(1.05)\n",
    "\n",
    "print(Employee.raise_amount)\n",
    "print(emp_1.raise_amount)\n",
    "print(emp_2.raise_amount)"
   ]
  },
  {
   "cell_type": "markdown",
   "metadata": {},
   "source": [
    " ### Using classmethod from object"
   ]
  },
  {
   "cell_type": "code",
   "execution_count": 8,
   "metadata": {},
   "outputs": [
    {
     "name": "stdout",
     "output_type": "stream",
     "text": [
      "2.05\n",
      "2.05\n",
      "2.05\n"
     ]
    }
   ],
   "source": [
    "emp_1.set_raise_amt(2.05)\n",
    "\n",
    "print(Employee.raise_amount)\n",
    "print(emp_1.raise_amount)\n",
    "print(emp_2.raise_amount)"
   ]
  },
  {
   "cell_type": "markdown",
   "metadata": {},
   "source": [
    "### Constructor based on classmethod"
   ]
  },
  {
   "cell_type": "code",
   "execution_count": 10,
   "metadata": {},
   "outputs": [
    {
     "name": "stdout",
     "output_type": "stream",
     "text": [
      "BATATA Nouhed\n"
     ]
    }
   ],
   "source": [
    "str_emp1 = 'BATATA-Nouhed-50000'\n",
    "str_emp2 = \"BATATA-Oussama-150000\"\n",
    "str_emp3 = \"BATATA-Ouarda-50000\"\n",
    "\n",
    "\n",
    "new_emp_1 = Employee.create_from_string(str_emp1)\n",
    "print(new_emp_1.fullname())"
   ]
  },
  {
   "cell_type": "markdown",
   "metadata": {},
   "source": [
    "# 2. Staticmethods"
   ]
  },
  {
   "cell_type": "code",
   "execution_count": 16,
   "metadata": {},
   "outputs": [],
   "source": [
    "class Employee:\n",
    "    \n",
    "    num_of_employees = 0\n",
    "    raise_amount = 1.04\n",
    "    def __init__(self,first, last, pay):\n",
    "        self.first = first\n",
    "        self.last = last\n",
    "        self.pay = pay\n",
    "        \n",
    "        Employee.num_of_employees +=1\n",
    "            \n",
    "    def fullname(self):\n",
    "        return '{} {}'.format(self.first, self.last)\n",
    "\n",
    "    def apply_raise(self):\n",
    "        self.pay = int(self.pay * self.raise_amount)\n",
    "        \n",
    "    @classmethod\n",
    "    def set_raise_amt(cls, amount):\n",
    "        cls.raise_amount = amount\n",
    "        \n",
    "    @classmethod\n",
    "    def create_from_string(cls, str_empl):\n",
    "        first, last, pay = str_empl.split(\"-\")\n",
    "        return cls(first, last, pay)\n",
    "    \n",
    "    @staticmethod\n",
    "    def is_workday(day):\n",
    "        if day.weekday() == 5 or day.weekday() == 6:\n",
    "            return False\n",
    "        else:\n",
    "            return True"
   ]
  },
  {
   "cell_type": "code",
   "execution_count": 18,
   "metadata": {},
   "outputs": [
    {
     "name": "stdout",
     "output_type": "stream",
     "text": [
      "False\n"
     ]
    }
   ],
   "source": [
    "import datetime\n",
    "\n",
    "my_date = datetime.date(2016, 7, 10)\n",
    "\n",
    "\"\"\"\n",
    "\n",
    "Utilisere une staticmethod\n",
    "si on a pas besoin des attributs de la class ni de l'objet\n",
    "\n",
    "\"\"\"\n",
    "\n",
    "print(Employee.is_workday(my_date))"
   ]
  },
  {
   "cell_type": "code",
   "execution_count": 12,
   "outputs": [
    {
     "name": "stdout",
     "output_type": "stream",
     "text": [
      "list is as follow :  [12, 19, 14, 13, 9, 20, 8, 15, 4, 20, 19, 17]\n",
      "2\n",
      "14.2\n"
     ]
    }
   ],
   "source": [
    "class Note:\n",
    "    def __init__(self, valeur):\n",
    "        self.valeur = valeur\n",
    "    def __repr__(self):\n",
    "        return \"{}/20\".format(self.valeur)\n",
    "\n",
    "class Notes(list):\n",
    "    list_notes = []\n",
    "\n",
    "    @staticmethod\n",
    "    def ajouter_note(note):\n",
    "        Notes.list_notes.append(note.valeur)\n",
    "\n",
    "\n",
    "    @staticmethod\n",
    "    def notes_parfaites():\n",
    "        print(\"list is as follow : \", Notes.list_notes)\n",
    "        return Notes.list_notes.count(20)\n",
    "\n",
    "    @staticmethod\n",
    "    def moyenne():\n",
    "        return \"{:0.1f}\".format(sum(Notes.list_notes)/len(Notes.list_notes))\n",
    "\n",
    "\n",
    "\n",
    "valeur_notes = [12, 19, 14, 13, 9, 20, 8, 15, 4, 20, 19, 17]\n",
    "notes = Notes()\n",
    "\n",
    "for valeur_note in valeur_notes:\n",
    "    notes.ajouter_note(note=Note(valeur=valeur_note))\n",
    "\n",
    "print(notes.notes_parfaites())\n",
    "print(notes.moyenne())"
   ],
   "metadata": {
    "collapsed": false,
    "pycharm": {
     "name": "#%%\n"
    }
   }
  }
 ],
 "metadata": {
  "kernelspec": {
   "display_name": "Python 3",
   "language": "python",
   "name": "python3"
  },
  "language_info": {
   "codemirror_mode": {
    "name": "ipython",
    "version": 3
   },
   "file_extension": ".py",
   "mimetype": "text/x-python",
   "name": "python",
   "nbconvert_exporter": "python",
   "pygments_lexer": "ipython3",
   "version": "3.8.3"
  }
 },
 "nbformat": 4,
 "nbformat_minor": 4
}