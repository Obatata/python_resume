{
 "cells": [
  {
   "cell_type": "markdown",
   "metadata": {},
   "source": [
    "# 1. Add/Substract/Multiplay/div/pow"
   ]
  },
  {
   "cell_type": "markdown",
   "metadata": {},
   "source": [
    "## 1.1  Array with scalar (value)"
   ]
  },
  {
   "cell_type": "code",
   "execution_count": 8,
   "metadata": {},
   "outputs": [
    {
     "name": "stdout",
     "output_type": "stream",
     "text": [
      "a initially :\n",
      " [1, 3, 4]\n",
      "\n",
      "a + 1 for each element :\n",
      " [2 3 4 5]\n",
      "\n",
      "a -1 for each element :\n",
      " [0 1 2 3]\n",
      "\n",
      "a/2 for each element :\n",
      " [0.5 1.  1.5 2. ]\n",
      "\n",
      "a*2 for each element :\n",
      " [2 4 6 8]\n",
      "\n",
      "a**2 for each element :\n",
      " [ 1  4  9 16]\n"
     ]
    }
   ],
   "source": [
    "import numpy as np \n",
    "\n",
    "array_1_d = np.array([1,2, 3, 4])\n",
    "\n",
    "\"\"\"\n",
    "Addition \n",
    "\"\"\"\n",
    "print(\"a initially :\\n\", a)\n",
    "print()\n",
    "print('a + 1 for each element :\\n', array_1_d+1)\n",
    "print()\n",
    "print(\"a -1 for each element :\\n\", array_1_d-1)\n",
    "print()\n",
    "print(\"a/2 for each element :\\n\", array_1_d/2)\n",
    "print()\n",
    "print(\"a*2 for each element :\\n\", array_1_d*2)\n",
    "print()\n",
    "print(\"a**2 for each element :\\n\", array_1_d**2)"
   ]
  },
  {
   "cell_type": "markdown",
   "metadata": {},
   "source": [
    "## 1.2 Array with array"
   ]
  },
  {
   "cell_type": "code",
   "execution_count": 11,
   "metadata": {},
   "outputs": [
    {
     "name": "stdout",
     "output_type": "stream",
     "text": [
      "arrays are : \n",
      " [1 2 3 4] \n",
      " [1 2 3 4]\n",
      "\n",
      "a + b :\n",
      " [2 4 6 8]\n",
      "\n",
      "a - b :\n",
      " [0 0 0 0]\n",
      "\n",
      "a / b :\n",
      " [1. 1. 1. 1.]\n",
      "\n",
      "a * b :\n",
      " [ 1  4  9 16]\n"
     ]
    }
   ],
   "source": [
    "array_1_d = np.array([1,2, 3, 4])\n",
    "array_1_2_d = np.array([1,2, 3, 4])\n",
    "\n",
    "print(\"arrays are : \\n\", array_1_2_d, \"\\n\", array_1_d)\n",
    "print()\n",
    "\n",
    "print('a + b :\\n', array_1_d+array_1_2_d)\n",
    "print()\n",
    "print('a - b :\\n', array_1_d-array_1_2_d)\n",
    "print()\n",
    "print('a / b :\\n', array_1_d/array_1_2_d)\n",
    "print()\n",
    "print('a * b :\\n', array_1_d*array_1_2_d)\n"
   ]
  },
  {
   "cell_type": "markdown",
   "metadata": {},
   "source": [
    "# 2. Mathematic transformation"
   ]
  },
  {
   "cell_type": "code",
   "execution_count": 19,
   "metadata": {},
   "outputs": [
    {
     "name": "stdout",
     "output_type": "stream",
     "text": [
      "array_1_d :\n",
      " [1 2 3 4]\n",
      "arr_1_2_d : \n",
      " [1 2 3 4]\n",
      "cos transformation : \n",
      " [ 0.54030231 -0.41614684 -0.9899925  -0.65364362]\n",
      "sin transformation : \n",
      " [ 0.84147098  0.90929743  0.14112001 -0.7568025 ]\n",
      "\n",
      "matmul transformation : \n",
      " 30\n",
      "deteminant is : \n",
      " 1.0\n"
     ]
    }
   ],
   "source": [
    "print(\"array_1_d :\\n\", array_1_d)\n",
    "print(\"arr_1_2_d : \\n\", array_1_2_d)\n",
    "cos_np = np.cos(array_1_d)\n",
    "print(\"cos transformation : \\n\", cos_np)\n",
    "sin_np = np.sin(array_1_d)\n",
    "print(\"sin transformation : \\n\", sin_np)\n",
    "\n",
    "print()\n",
    "\n",
    "\n",
    "\"\"\"\n",
    "transformation with two numpy array\n",
    "\"\"\"\n",
    "mat_mul_np = np.matmul(array_1_d, array_1_2_d)\n",
    "print(\"matmul transformation : \\n\", mat_mul_np)\n",
    "\n",
    "\"\"\"\n",
    "Find determinant \n",
    "\"\"\"\n",
    "identity_2_d = np.identity(3)\n",
    "print(\"deteminant is : \\n\", np.linalg.det(identity_2_d))"
   ]
  },
  {
   "cell_type": "markdown",
   "metadata": {},
   "source": [
    "# 3. Statistics"
   ]
  },
  {
   "cell_type": "code",
   "execution_count": 24,
   "metadata": {},
   "outputs": [
    {
     "name": "stdout",
     "output_type": "stream",
     "text": [
      "array : \n",
      " [[ 1 34 22]\n",
      " [ 2  8  3]]\n",
      "\n",
      "min array :  1\n",
      "max array :  34\n",
      "\n",
      "sum array :  70\n",
      "sum on axis 0 array :  [ 3 42 25]\n",
      "sum on axis 1 array :  [57 13]\n"
     ]
    }
   ],
   "source": [
    "\"\"\"\n",
    "min \n",
    "\"\"\"\n",
    "\n",
    "print(\"array : \\n\", array_2_d)\n",
    "print()\n",
    "print(\"min array : \", np.min(array_2_d))\n",
    "\n",
    "\"\"\"\n",
    "max\n",
    "\"\"\"\n",
    "print(\"max array : \", np.max(array_2_d))\n",
    "print()\n",
    "\"\"\"\n",
    "sum\n",
    "\"\"\"\n",
    "print(\"sum array : \", np.sum(array_2_d))\n",
    "print(\"sum on axis 0 array : \", np.sum(array_2_d, axis=0))\n",
    "print(\"sum on axis 1 array : \", np.sum(array_2_d, axis=1))"
   ]
  },
  {
   "cell_type": "code",
   "execution_count": null,
   "metadata": {},
   "outputs": [],
   "source": []
  },
  {
   "cell_type": "code",
   "execution_count": null,
   "metadata": {},
   "outputs": [],
   "source": []
  },
  {
   "cell_type": "code",
   "execution_count": null,
   "metadata": {},
   "outputs": [],
   "source": []
  },
  {
   "cell_type": "code",
   "execution_count": null,
   "metadata": {},
   "outputs": [],
   "source": []
  },
  {
   "cell_type": "code",
   "execution_count": null,
   "metadata": {},
   "outputs": [],
   "source": []
  },
  {
   "cell_type": "code",
   "execution_count": null,
   "metadata": {},
   "outputs": [],
   "source": []
  },
  {
   "cell_type": "code",
   "execution_count": null,
   "metadata": {},
   "outputs": [],
   "source": []
  },
  {
   "cell_type": "code",
   "execution_count": null,
   "metadata": {},
   "outputs": [],
   "source": []
  },
  {
   "cell_type": "code",
   "execution_count": null,
   "metadata": {},
   "outputs": [],
   "source": []
  },
  {
   "cell_type": "code",
   "execution_count": null,
   "metadata": {},
   "outputs": [],
   "source": []
  },
  {
   "cell_type": "code",
   "execution_count": null,
   "metadata": {},
   "outputs": [],
   "source": []
  }
 ],
 "metadata": {
  "kernelspec": {
   "display_name": "Python 3",
   "language": "python",
   "name": "python3"
  },
  "language_info": {
   "codemirror_mode": {
    "name": "ipython",
    "version": 3
   },
   "file_extension": ".py",
   "mimetype": "text/x-python",
   "name": "python",
   "nbconvert_exporter": "python",
   "pygments_lexer": "ipython3",
   "version": "3.8.3"
  }
 },
 "nbformat": 4,
 "nbformat_minor": 4
}
