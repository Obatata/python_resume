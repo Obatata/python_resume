{
 "cells": [
  {
   "cell_type": "markdown",
   "metadata": {},
   "source": [
    "#  Match"
   ]
  },
  {
   "cell_type": "code",
   "execution_count": 14,
   "metadata": {},
   "outputs": [
    {
     "name": "stdout",
     "output_type": "stream",
     "text": [
      "\tBonjour\n",
      "\\tBonjour\n",
      "--\n",
      "------- Match function----------\n",
      "--\n",
      "\n"
     ]
    }
   ],
   "source": [
    "import re \n",
    "\n",
    "### exemple 1 \n",
    "\n",
    "print(\"\\tBonjour\")\n",
    "print(r\"\\tBonjour\")\n",
    "print(\"--\")\n",
    "print(\"------- Match function----------\")\n",
    "print(\"--\")\n",
    "\n",
    "print()\n"
   ]
  },
  {
   "cell_type": "code",
   "execution_count": 15,
   "metadata": {},
   "outputs": [
    {
     "name": "stdout",
     "output_type": "stream",
     "text": [
      "first matching\n",
      "<re.Match object; span=(0, 1), match='P'>\n",
      "print by group\n",
      "P\n"
     ]
    }
   ],
   "source": [
    "\n",
    "\"\"\"\n",
    "match qui s'arrete au premier matching\n",
    "\"\"\"\n",
    "a = re.match(r\".\", \"Pierre Dupont\")\n",
    "print(\"first matching\")\n",
    "print(a)\n",
    "print(\"print by group\")\n",
    "print(a.group(0))\n"
   ]
  },
  {
   "cell_type": "code",
   "execution_count": 16,
   "metadata": {},
   "outputs": [
    {
     "name": "stdout",
     "output_type": "stream",
     "text": [
      " tous les matchs \n",
      "<re.Match object; span=(0, 13), match='Pierre Dupont'>\n",
      "print by group\n",
      "Pierre Dupont\n"
     ]
    }
   ],
   "source": [
    "\"\"\"\n",
    "match qui track tous les matching avec \"+\"\n",
    "\"\"\"\n",
    "a = re.match(r\".+\", \"Pierre Dupont\")\n",
    "print(\" tous les matchs \")\n",
    "print(a)\n",
    "print(\"print by group\")\n",
    "print(a.group(0))\n"
   ]
  },
  {
   "cell_type": "code",
   "execution_count": 18,
   "metadata": {},
   "outputs": [
    {
     "name": "stdout",
     "output_type": "stream",
     "text": [
      "Pierre Dupon\n"
     ]
    }
   ],
   "source": [
    "\"\"\"\n",
    "match qui track tous les maching dans un seul group\n",
    "\"\"\"\n",
    "import re\n",
    "a = re.match(r\"\\w+\\s\\w+\", \"Pierre Dupon\")\n",
    "print(a.group(0))"
   ]
  },
  {
   "cell_type": "code",
   "execution_count": 23,
   "metadata": {},
   "outputs": [
    {
     "name": "stdout",
     "output_type": "stream",
     "text": [
      " tous les matchs \n",
      "<re.Match object; span=(0, 12), match='Pierre Dupon'>\n",
      "print by group\n",
      "Pierre Dupon\n",
      "Pierre\n",
      " \n",
      "Dupon\n"
     ]
    }
   ],
   "source": [
    "\"\"\"\n",
    "fonction match avec les groups ()\n",
    "\"\"\"\n",
    "a = re.match(r\"(\\w+)(\\s)(\\w+)\", \"Pierre Dupon\")\n",
    "print(\" tous les matchs \")\n",
    "print(a)\n",
    "print(\"print by group\")\n",
    "print(a.group(0))\n",
    "print(a.group(1))\n",
    "print(a.group(2))\n",
    "print(a.group(3))"
   ]
  },
  {
   "cell_type": "code",
   "execution_count": null,
   "metadata": {},
   "outputs": [],
   "source": []
  },
  {
   "cell_type": "code",
   "execution_count": 25,
   "metadata": {},
   "outputs": [
    {
     "name": "stdout",
     "output_type": "stream",
     "text": [
      " tous les matchs \n",
      "<re.Match object; span=(0, 12), match='Pierre Dupon'>\n",
      "print by group\n",
      "Pierre\n",
      "Dupon\n",
      "\n",
      "('Pierre', 'Dupon')\n",
      "\n",
      "{'prenom': 'Pierre', 'nom': 'Dupon'}\n"
     ]
    }
   ],
   "source": [
    "\"\"\"\n",
    "la fonction match avec les groups\n",
    "Des noms sont assignés aux groups\n",
    "\"\"\"\n",
    "\n",
    "a = re.match(r\"(?P<prenom>\\w+) (?P<nom>\\w+)\", \"Pierre Dupon\")\n",
    "print(\" tous les matchs \")\n",
    "print(a)\n",
    "print(\"print by group\")\n",
    "print(a.group(\"prenom\"))\n",
    "print(a.group(\"nom\"))\n",
    "\n",
    "\n",
    "print()\n",
    "\n",
    "\"\"\"\n",
    "get tous les groups \n",
    "\"\"\"\n",
    "print(a.groups())\n",
    "print()\n",
    "print(a.groupdict())"
   ]
  },
  {
   "cell_type": "markdown",
   "metadata": {},
   "source": [
    "# EXERCICE"
   ]
  },
  {
   "cell_type": "markdown",
   "metadata": {},
   "source": [
    "## Question 1"
   ]
  },
  {
   "cell_type": "code",
   "execution_count": 35,
   "metadata": {},
   "outputs": [
    {
     "name": "stdout",
     "output_type": "stream",
     "text": [
      "item01\n"
     ]
    }
   ],
   "source": [
    "a = re.match(r'[a-z]+\\d{2}', 'item01')\n",
    "print(a.group())"
   ]
  },
  {
   "cell_type": "markdown",
   "metadata": {},
   "source": [
    "## Question 2"
   ]
  },
  {
   "cell_type": "code",
   "execution_count": 36,
   "metadata": {},
   "outputs": [
    {
     "name": "stdout",
     "output_type": "stream",
     "text": [
      "Pierre Dupont\n"
     ]
    }
   ],
   "source": [
    "a = re.match(r'[a-zA-Z]+\\s\\w+', 'Pierre Dupont')\n",
    "print(a.group())"
   ]
  },
  {
   "cell_type": "markdown",
   "metadata": {},
   "source": [
    "## Question 3"
   ]
  },
  {
   "cell_type": "code",
   "execution_count": 52,
   "metadata": {},
   "outputs": [
    {
     "ename": "AttributeError",
     "evalue": "'NoneType' object has no attribute 'group'",
     "output_type": "error",
     "traceback": [
      "\u001b[1;31m---------------------------------------------------------------------------\u001b[0m",
      "\u001b[1;31mAttributeError\u001b[0m                            Traceback (most recent call last)",
      "\u001b[1;32m<ipython-input-52-7a3a3c582d90>\u001b[0m in \u001b[0;36m<module>\u001b[1;34m\u001b[0m\n\u001b[0;32m      1\u001b[0m \u001b[0ma\u001b[0m \u001b[1;33m=\u001b[0m \u001b[0mre\u001b[0m\u001b[1;33m.\u001b[0m\u001b[0mmatch\u001b[0m\u001b[1;33m(\u001b[0m\u001b[1;34mr'\\s+'\u001b[0m\u001b[1;33m,\u001b[0m \u001b[1;34m'Pierre dupont'\u001b[0m\u001b[1;33m)\u001b[0m\u001b[1;33m\u001b[0m\u001b[1;33m\u001b[0m\u001b[0m\n\u001b[1;32m----> 2\u001b[1;33m \u001b[0mprint\u001b[0m\u001b[1;33m(\u001b[0m\u001b[0ma\u001b[0m\u001b[1;33m.\u001b[0m\u001b[0mgroup\u001b[0m\u001b[1;33m(\u001b[0m\u001b[1;33m)\u001b[0m\u001b[1;33m)\u001b[0m\u001b[1;33m\u001b[0m\u001b[1;33m\u001b[0m\u001b[0m\n\u001b[0m",
      "\u001b[1;31mAttributeError\u001b[0m: 'NoneType' object has no attribute 'group'"
     ]
    }
   ],
   "source": [
    "a = re.match(r'\\s+', 'Pierre dupont')\n",
    "print(a.group())\n",
    "\"\"\"\n",
    "Match invalide : on cherche un espace au début de la chaîne de caractère, \n",
    "mais elle commence par une lettre.\n",
    "\"\"\""
   ]
  },
  {
   "cell_type": "markdown",
   "metadata": {},
   "source": [
    "## Question 4"
   ]
  },
  {
   "cell_type": "code",
   "execution_count": 48,
   "metadata": {},
   "outputs": [
    {
     "name": "stdout",
     "output_type": "stream",
     "text": [
      "pierre\n"
     ]
    }
   ],
   "source": [
    "a = re.match(r'\\w+', 'pierre dupont')\n",
    "print(a.group())"
   ]
  },
  {
   "cell_type": "markdown",
   "metadata": {},
   "source": [
    "## Question 5"
   ]
  },
  {
   "cell_type": "code",
   "execution_count": 49,
   "metadata": {},
   "outputs": [
    {
     "name": "stdout",
     "output_type": "stream",
     "text": [
      "pierre-\n"
     ]
    }
   ],
   "source": [
    "a = re.match(r'\\w+([-+=]?)', 'pierre-dupont')\n",
    "print(a.group())"
   ]
  },
  {
   "cell_type": "markdown",
   "metadata": {},
   "source": [
    "## Question 6"
   ]
  },
  {
   "cell_type": "code",
   "execution_count": 50,
   "metadata": {},
   "outputs": [
    {
     "name": "stdout",
     "output_type": "stream",
     "text": [
      "pierre\n"
     ]
    }
   ],
   "source": [
    "a = re.match(r'\\w+([-+=]?)', 'pierre/dupont')\n",
    "print(a.group())"
   ]
  },
  {
   "cell_type": "markdown",
   "metadata": {},
   "source": [
    "## Question 7"
   ]
  },
  {
   "cell_type": "code",
   "execution_count": 51,
   "metadata": {},
   "outputs": [
    {
     "ename": "AttributeError",
     "evalue": "'NoneType' object has no attribute 'group'",
     "output_type": "error",
     "traceback": [
      "\u001b[1;31m---------------------------------------------------------------------------\u001b[0m",
      "\u001b[1;31mAttributeError\u001b[0m                            Traceback (most recent call last)",
      "\u001b[1;32m<ipython-input-51-fe1b5ca60e41>\u001b[0m in \u001b[0;36m<module>\u001b[1;34m\u001b[0m\n\u001b[0;32m      1\u001b[0m \u001b[0ma\u001b[0m \u001b[1;33m=\u001b[0m \u001b[0mre\u001b[0m\u001b[1;33m.\u001b[0m\u001b[0mmatch\u001b[0m\u001b[1;33m(\u001b[0m\u001b[1;34mr'\\w+([-+=]+)'\u001b[0m\u001b[1;33m,\u001b[0m \u001b[1;34m'pierre/dupont'\u001b[0m\u001b[1;33m)\u001b[0m\u001b[1;33m\u001b[0m\u001b[1;33m\u001b[0m\u001b[0m\n\u001b[1;32m----> 2\u001b[1;33m \u001b[0mprint\u001b[0m\u001b[1;33m(\u001b[0m\u001b[0ma\u001b[0m\u001b[1;33m.\u001b[0m\u001b[0mgroup\u001b[0m\u001b[1;33m(\u001b[0m\u001b[1;33m)\u001b[0m\u001b[1;33m)\u001b[0m\u001b[1;33m\u001b[0m\u001b[1;33m\u001b[0m\u001b[0m\n\u001b[0m",
      "\u001b[1;31mAttributeError\u001b[0m: 'NoneType' object has no attribute 'group'"
     ]
    }
   ],
   "source": [
    "a = re.match(r'\\w+([-+=]+)', 'pierre/dupont')\n",
    "print(a.group())\n",
    "\n",
    "\"\"\"\n",
    "Match invalide : \n",
    "le + cherche si les caractères -, + ou = sont présents au moins une fois ou plus dans la chaîne de caractère.\n",
    "Aucun de ses éléments ne se retrouve dans la chaîne de caractère au moins une fois et donc le match n'est pas valide\n",
    "\"\"\""
   ]
  },
  {
   "cell_type": "code",
   "execution_count": null,
   "metadata": {},
   "outputs": [],
   "source": []
  },
  {
   "cell_type": "code",
   "execution_count": 104,
   "metadata": {},
   "outputs": [],
   "source": [
    "numeros_de_telephone = ['06-71-45-34-23',\n",
    "\t\t\t\t\t\t'02-12-33-75-12',\n",
    "\t\t\t\t\t\t'00-23-14-52-44',\n",
    "\t\t\t\t\t\t'514-235-0293',\n",
    "\t\t\t\t\t\t'03-52-31-56-34']"
   ]
  },
  {
   "cell_type": "code",
   "execution_count": null,
   "metadata": {},
   "outputs": [],
   "source": []
  },
  {
   "cell_type": "code",
   "execution_count": 108,
   "metadata": {},
   "outputs": [
    {
     "name": "stdout",
     "output_type": "stream",
     "text": [
      "07-33-11-22-99\n"
     ]
    }
   ],
   "source": [
    "a = re.match(r'[0]{1}[1-7]{1}[-]{1}[0-9]{2}[-]{1}[0-9]{2}[-]{1}[0-9]{2}[-]{1}[0-9]{2,2}', \"07-33-11-22-99\")\n",
    "print(a.group(0))"
   ]
  },
  {
   "cell_type": "code",
   "execution_count": null,
   "metadata": {},
   "outputs": [],
   "source": []
  },
  {
   "cell_type": "code",
   "execution_count": 117,
   "metadata": {},
   "outputs": [
    {
     "name": "stdout",
     "output_type": "stream",
     "text": [
      "06-71-45-34-23 valide number\n",
      "02-12-33-75-12 valide number\n",
      "00-23-14-52-44 not valide number\n",
      "514-235-0293 not valide number\n",
      "03-52-31-56-34 valide number\n"
     ]
    }
   ],
   "source": [
    "for num in numeros_de_telephone:\n",
    "    try:\n",
    "        match = re.match(r'[0]{1}[1-7]{1}[-]{1}[0-9]{2}[-]{1}[0-9]{2}[-]{1}[0-9]{2}[-]{1}[0-9]{2,2}', num)\n",
    "        print(match.group(0), \"valide number\")\n",
    "    except:\n",
    "        print(num, \"not valide number\")"
   ]
  },
  {
   "cell_type": "code",
   "execution_count": null,
   "metadata": {},
   "outputs": [],
   "source": []
  },
  {
   "cell_type": "code",
   "execution_count": 112,
   "metadata": {},
   "outputs": [
    {
     "name": "stdout",
     "output_type": "stream",
     "text": [
      "Le numero 06-71-45-34-23 est valide\n",
      "Le numero 02-12-33-75-12 est valide\n",
      "Le numero 00-23-14-52-44 est invalide\n",
      "Le numero 514-235-0293 est invalide\n",
      "Le numero 03-52-31-56-34 est valide\n"
     ]
    }
   ],
   "source": [
    "for tel in numeros_de_telephone:\n",
    "\tmatch = re.search(r'0{1}[1-7]{1}(-[0-9]{2}){4}', tel)\n",
    "\tprint('Le numero {} est {}'.format(tel, 'valide' if match else 'invalide'))\n"
   ]
  },
  {
   "cell_type": "code",
   "execution_count": 115,
   "metadata": {},
   "outputs": [],
   "source": [
    "def return_match(num):\n",
    "    try:\n",
    "        match = re.match(r'[0]{1}[1-7]{1}[-]{1}[0-9]{2}[-]{1}[0-9]{2}[-]{1}[0-9]{2}[-]{1}[0-9]{2,2}', num)\n",
    "        print(match.group(0))\n",
    "        return True\n",
    "    except:\n",
    "        print(\"not match\")\n",
    "        return False\n",
    "        "
   ]
  },
  {
   "cell_type": "code",
   "execution_count": null,
   "metadata": {},
   "outputs": [],
   "source": []
  },
  {
   "cell_type": "code",
   "execution_count": 116,
   "metadata": {},
   "outputs": [
    {
     "name": "stdout",
     "output_type": "stream",
     "text": [
      "06-71-45-34-23\n",
      "Valide\n",
      "02-12-33-75-12\n",
      "Valide\n",
      "not match\n",
      "no valide\n",
      "not match\n",
      "no valide\n",
      "03-52-31-56-34\n",
      "Valide\n"
     ]
    }
   ],
   "source": [
    "for num in numeros_de_telephone:\n",
    "    if return_match(num):\n",
    "        print(\"Valide\")\n",
    "    else:\n",
    "        print(\"no valide\")"
   ]
  },
  {
   "cell_type": "code",
   "execution_count": null,
   "metadata": {},
   "outputs": [],
   "source": []
  },
  {
   "cell_type": "code",
   "execution_count": null,
   "metadata": {},
   "outputs": [],
   "source": []
  },
  {
   "cell_type": "code",
   "execution_count": null,
   "metadata": {},
   "outputs": [],
   "source": []
  },
  {
   "cell_type": "code",
   "execution_count": null,
   "metadata": {},
   "outputs": [],
   "source": []
  },
  {
   "cell_type": "code",
   "execution_count": null,
   "metadata": {},
   "outputs": [],
   "source": []
  },
  {
   "cell_type": "code",
   "execution_count": null,
   "metadata": {},
   "outputs": [],
   "source": []
  },
  {
   "cell_type": "code",
   "execution_count": null,
   "metadata": {},
   "outputs": [],
   "source": []
  },
  {
   "cell_type": "code",
   "execution_count": null,
   "metadata": {},
   "outputs": [],
   "source": []
  },
  {
   "cell_type": "code",
   "execution_count": null,
   "metadata": {},
   "outputs": [],
   "source": []
  },
  {
   "cell_type": "code",
   "execution_count": null,
   "metadata": {},
   "outputs": [],
   "source": []
  },
  {
   "cell_type": "code",
   "execution_count": null,
   "metadata": {},
   "outputs": [],
   "source": []
  },
  {
   "cell_type": "code",
   "execution_count": null,
   "metadata": {},
   "outputs": [],
   "source": []
  },
  {
   "cell_type": "code",
   "execution_count": null,
   "metadata": {},
   "outputs": [],
   "source": []
  },
  {
   "cell_type": "code",
   "execution_count": null,
   "metadata": {},
   "outputs": [],
   "source": []
  },
  {
   "cell_type": "code",
   "execution_count": null,
   "metadata": {},
   "outputs": [],
   "source": []
  },
  {
   "cell_type": "code",
   "execution_count": null,
   "metadata": {},
   "outputs": [],
   "source": []
  },
  {
   "cell_type": "code",
   "execution_count": null,
   "metadata": {},
   "outputs": [],
   "source": []
  },
  {
   "cell_type": "code",
   "execution_count": null,
   "metadata": {},
   "outputs": [],
   "source": []
  },
  {
   "cell_type": "code",
   "execution_count": null,
   "metadata": {},
   "outputs": [],
   "source": []
  },
  {
   "cell_type": "code",
   "execution_count": null,
   "metadata": {},
   "outputs": [],
   "source": []
  },
  {
   "cell_type": "code",
   "execution_count": null,
   "metadata": {},
   "outputs": [],
   "source": []
  },
  {
   "cell_type": "code",
   "execution_count": null,
   "metadata": {},
   "outputs": [],
   "source": []
  },
  {
   "cell_type": "code",
   "execution_count": null,
   "metadata": {},
   "outputs": [],
   "source": []
  },
  {
   "cell_type": "code",
   "execution_count": null,
   "metadata": {},
   "outputs": [],
   "source": []
  },
  {
   "cell_type": "code",
   "execution_count": null,
   "metadata": {},
   "outputs": [],
   "source": []
  },
  {
   "cell_type": "code",
   "execution_count": null,
   "metadata": {},
   "outputs": [],
   "source": []
  },
  {
   "cell_type": "code",
   "execution_count": null,
   "metadata": {},
   "outputs": [],
   "source": []
  },
  {
   "cell_type": "code",
   "execution_count": null,
   "metadata": {},
   "outputs": [],
   "source": []
  },
  {
   "cell_type": "code",
   "execution_count": null,
   "metadata": {},
   "outputs": [],
   "source": []
  },
  {
   "cell_type": "code",
   "execution_count": null,
   "metadata": {},
   "outputs": [],
   "source": []
  },
  {
   "cell_type": "code",
   "execution_count": null,
   "metadata": {},
   "outputs": [],
   "source": []
  },
  {
   "cell_type": "code",
   "execution_count": null,
   "metadata": {},
   "outputs": [],
   "source": []
  },
  {
   "cell_type": "code",
   "execution_count": null,
   "metadata": {},
   "outputs": [],
   "source": []
  },
  {
   "cell_type": "code",
   "execution_count": null,
   "metadata": {},
   "outputs": [],
   "source": []
  },
  {
   "cell_type": "code",
   "execution_count": null,
   "metadata": {},
   "outputs": [],
   "source": []
  },
  {
   "cell_type": "code",
   "execution_count": null,
   "metadata": {},
   "outputs": [],
   "source": []
  },
  {
   "cell_type": "code",
   "execution_count": null,
   "metadata": {},
   "outputs": [],
   "source": []
  },
  {
   "cell_type": "code",
   "execution_count": null,
   "metadata": {},
   "outputs": [],
   "source": []
  },
  {
   "cell_type": "code",
   "execution_count": null,
   "metadata": {},
   "outputs": [],
   "source": []
  },
  {
   "cell_type": "code",
   "execution_count": null,
   "metadata": {},
   "outputs": [],
   "source": []
  },
  {
   "cell_type": "code",
   "execution_count": null,
   "metadata": {},
   "outputs": [],
   "source": []
  },
  {
   "cell_type": "code",
   "execution_count": null,
   "metadata": {},
   "outputs": [],
   "source": []
  },
  {
   "cell_type": "code",
   "execution_count": null,
   "metadata": {},
   "outputs": [],
   "source": []
  },
  {
   "cell_type": "code",
   "execution_count": null,
   "metadata": {},
   "outputs": [],
   "source": []
  },
  {
   "cell_type": "code",
   "execution_count": null,
   "metadata": {},
   "outputs": [],
   "source": []
  },
  {
   "cell_type": "code",
   "execution_count": null,
   "metadata": {},
   "outputs": [],
   "source": []
  },
  {
   "cell_type": "code",
   "execution_count": null,
   "metadata": {},
   "outputs": [],
   "source": []
  },
  {
   "cell_type": "code",
   "execution_count": null,
   "metadata": {},
   "outputs": [],
   "source": []
  },
  {
   "cell_type": "code",
   "execution_count": null,
   "metadata": {},
   "outputs": [],
   "source": []
  },
  {
   "cell_type": "code",
   "execution_count": null,
   "metadata": {},
   "outputs": [],
   "source": []
  },
  {
   "cell_type": "code",
   "execution_count": null,
   "metadata": {},
   "outputs": [],
   "source": []
  },
  {
   "cell_type": "code",
   "execution_count": null,
   "metadata": {},
   "outputs": [],
   "source": []
  },
  {
   "cell_type": "code",
   "execution_count": null,
   "metadata": {},
   "outputs": [],
   "source": []
  },
  {
   "cell_type": "code",
   "execution_count": null,
   "metadata": {},
   "outputs": [],
   "source": []
  },
  {
   "cell_type": "code",
   "execution_count": null,
   "metadata": {},
   "outputs": [],
   "source": []
  },
  {
   "cell_type": "code",
   "execution_count": null,
   "metadata": {},
   "outputs": [],
   "source": []
  }
 ],
 "metadata": {
  "kernelspec": {
   "display_name": "Python 3",
   "language": "python",
   "name": "python3"
  },
  "language_info": {
   "codemirror_mode": {
    "name": "ipython",
    "version": 3
   },
   "file_extension": ".py",
   "mimetype": "text/x-python",
   "name": "python",
   "nbconvert_exporter": "python",
   "pygments_lexer": "ipython3",
   "version": "3.7.4"
  }
 },
 "nbformat": 4,
 "nbformat_minor": 4
}
