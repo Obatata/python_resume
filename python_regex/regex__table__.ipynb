{
 "cells": [
  {
   "cell_type": "markdown",
   "metadata": {},
   "source": [
    "# 1. Trouver un caractere\n",
    "\n",
    "### .\t\t\t : \tLe point correspond à tous les caractères possibles (incluant symboles)\n",
    "### [A-F]\t\t: \tCorrespond à une liste de caractères possibles.\n",
    "### (python|c++) : \tL'un ou l'autre\n",
    "### ^\t\t:\t\tLe contraire de ce qu'on veut.\n",
    "### \\d \t\t:\tUniquement des chiffres. Équivalent à [0-9]\n",
    "### \\D \t\t:\tTout sauf des chiffres. Équivalent à [^0-9]\n",
    "### \\s \t\t:    Un espace\n",
    "### \\w \t\t:\tUn caractère alphanumérique. Équivalent à [a-zA-Z0-9_]\n",
    "### \\W \t\t:\tTout sauf un caractère alphanumérique. Équivalent à [^a-zA-Z0-9_]\n",
    "### \\ \t\t:\tComme en Python, pour échapper un caractère.\n"
   ]
  },
  {
   "cell_type": "code",
   "execution_count": null,
   "metadata": {},
   "outputs": [],
   "source": []
  },
  {
   "cell_type": "markdown",
   "metadata": {},
   "source": [
    "# 2. Compter un caractere\n",
    "\n",
    "### ? :\t\t0 ou 1 fois\n",
    "### *\t  :  \t0 à l'infini\n",
    "### +\t :   \tde 1 à l'infini\n",
    "### {3} \t:\texactement 3\n",
    "### {3,} : \tde 3 à l'infini\n",
    "### {,3}  :\tde 0 à 3 fois\n",
    "### {3,6} :\tde 3 à 6 fois"
   ]
  }
 ],
 "metadata": {
  "kernelspec": {
   "display_name": "Python 3",
   "language": "python",
   "name": "python3"
  },
  "language_info": {
   "codemirror_mode": {
    "name": "ipython",
    "version": 3
   },
   "file_extension": ".py",
   "mimetype": "text/x-python",
   "name": "python",
   "nbconvert_exporter": "python",
   "pygments_lexer": "ipython3",
   "version": "3.7.4"
  }
 },
 "nbformat": 4,
 "nbformat_minor": 4
}
