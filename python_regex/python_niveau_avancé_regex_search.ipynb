{
 "cells": [
  {
   "cell_type": "markdown",
   "metadata": {},
   "source": [
    "#  Search"
   ]
  },
  {
   "cell_type": "code",
   "execution_count": 18,
   "metadata": {},
   "outputs": [
    {
     "name": "stdout",
     "output_type": "stream",
     "text": [
      "<re.Match object; span=(13, 16), match=' + '>\n",
      "---\n",
      " + \n"
     ]
    }
   ],
   "source": [
    "\"\"\"\n",
    "Sreach à l'inverse de match \n",
    "elle va chercher sans la chaine de caractère en entier \n",
    "\"\"\"\n",
    "\n",
    "import re\n",
    "\n",
    "a = re.search(r' \\+ ', \"Pierre Dupont + Paul Martin +\")\n",
    "print(a)\n",
    "print(\"---\")\n",
    "print(a.group())"
   ]
  },
  {
   "cell_type": "code",
   "execution_count": null,
   "metadata": {},
   "outputs": [],
   "source": []
  },
  {
   "cell_type": "markdown",
   "metadata": {},
   "source": [
    "# Split"
   ]
  },
  {
   "cell_type": "code",
   "execution_count": 25,
   "metadata": {},
   "outputs": [
    {
     "name": "stdout",
     "output_type": "stream",
     "text": [
      "['item01', 'item02', 'item03', 'item04', 'item05']\n"
     ]
    }
   ],
   "source": [
    "import re\n",
    "\n",
    "texte = 'item01 | item02 - item03 - item04 | item05'\n",
    "\n",
    "a = re.split(r' \\| | - ', texte)\n",
    "print(a)"
   ]
  },
  {
   "cell_type": "markdown",
   "metadata": {},
   "source": [
    "# Exercice"
   ]
  },
  {
   "cell_type": "code",
   "execution_count": 27,
   "metadata": {},
   "outputs": [],
   "source": [
    "numeros_de_telephone = ['06-71-45-34-23',\n",
    "\t\t\t\t\t\t'02-12-33-75-12',\n",
    "\t\t\t\t\t\t'00-23-14-52-44',\n",
    "\t\t\t\t\t\t'514-235-0293',\n",
    "\t\t\t\t\t\t'03-52-31-56-34']"
   ]
  },
  {
   "cell_type": "markdown",
   "metadata": {},
   "source": [
    "## Solution 1 : avec match détaillé"
   ]
  },
  {
   "cell_type": "code",
   "execution_count": 28,
   "metadata": {},
   "outputs": [
    {
     "name": "stdout",
     "output_type": "stream",
     "text": [
      "le numéro :  06-71-45-34-23 est valide number\n",
      "le numéro :  02-12-33-75-12 est valide number\n",
      "le numéro :  00-23-14-52-44  est not valide number\n",
      "le numéro :  514-235-0293  est not valide number\n",
      "le numéro :  03-52-31-56-34 est valide number\n"
     ]
    }
   ],
   "source": [
    "for num in numeros_de_telephone:\n",
    "    try:\n",
    "        match = re.match(r'[0]{1}[1-7]{1}[-]{1}[0-9]{2}[-]{1}[0-9]{2}[-]{1}[0-9]{2}[-]{1}[0-9]{2,2}', num)\n",
    "        print(\"le numéro : \", match.group(0), \"est valide number\")\n",
    "    except:\n",
    "        print(\"le numéro : \", num, \" est not valide number\")"
   ]
  },
  {
   "cell_type": "markdown",
   "metadata": {},
   "source": [
    "# Solution 2 : avec search"
   ]
  },
  {
   "cell_type": "code",
   "execution_count": 33,
   "metadata": {},
   "outputs": [
    {
     "name": "stdout",
     "output_type": "stream",
     "text": [
      "le numéro 06-71-45-34-23 est valide \n",
      "le numéro 02-12-33-75-12 est valide \n",
      "le numéro 00-23-14-52-44 est invalide \n",
      "le numéro 514-235-0293 est invalide \n",
      "le numéro 03-52-31-56-34 est valide \n"
     ]
    }
   ],
   "source": [
    "for tel in numeros_de_telephone:\n",
    "    match = re.serach(r'[0]{1}[1-7]{1}(-[0-9]{2}){4}', tel)\n",
    "    print(\"le numéro {} est {} \".format(tel, 'valide' if match else 'invalide'))"
   ]
  },
  {
   "cell_type": "markdown",
   "metadata": {},
   "source": [
    "# Solution 3 : avec match résumé"
   ]
  },
  {
   "cell_type": "code",
   "execution_count": 34,
   "metadata": {},
   "outputs": [
    {
     "name": "stdout",
     "output_type": "stream",
     "text": [
      "le numéro 06-71-45-34-23 est valide \n",
      "le numéro 02-12-33-75-12 est valide \n",
      "le numéro 00-23-14-52-44 est invalide \n",
      "le numéro 514-235-0293 est invalide \n",
      "le numéro 03-52-31-56-34 est valide \n"
     ]
    }
   ],
   "source": [
    "for tel in numeros_de_telephone:\n",
    "    match = re.match(r'[0]{1}[1-7]{1}(-[0-9]{2}){4}', tel)\n",
    "    print(\"le numéro {} est {} \".format(tel, 'valide' if match else 'invalide'))"
   ]
  },
  {
   "cell_type": "markdown",
   "metadata": {},
   "source": [
    "# Exercice"
   ]
  },
  {
   "cell_type": "code",
   "execution_count": 37,
   "metadata": {},
   "outputs": [],
   "source": [
    "adresses_mail = ['christian_martin@gmail.com',\n",
    "\t\t\t\t 'JaiOublieLarobasegmail.com',\n",
    "\t\t\t\t 'MarieHutchinson03523@yahoo.co.uk',\n",
    "\t\t\t\t 'UnEaDreSSeMail!38BIZarre@unSiTeBizarre.com',\n",
    "\t\t\t\t 'ceciNestPasUneDresseMail']"
   ]
  },
  {
   "cell_type": "markdown",
   "metadata": {},
   "source": [
    "# Ma solution"
   ]
  },
  {
   "cell_type": "code",
   "execution_count": 47,
   "metadata": {},
   "outputs": [
    {
     "name": "stdout",
     "output_type": "stream",
     "text": [
      "l'adresse christian_martin@gmail.com est valide \n",
      "l'adresse JaiOublieLarobasegmail.com est invalide \n",
      "l'adresse MarieHutchinson03523@yahoo.co.uk est valide \n",
      "l'adresse UnEaDreSSeMail!38BIZarre@unSiTeBizarre.com est valide \n",
      "l'adresse ceciNestPasUneDresseMail est invalide \n"
     ]
    }
   ],
   "source": [
    "for mail in adresses_mail:\n",
    "    match = re.match(r'.+[\\@]{1}[a-zA-Z]+[\\.]{1}[a-zA-Z-\\.]+',mail)\n",
    "    print(\"l'adresse {} est {} \".format(mail, \"valide\" if match else \"invalide\"))"
   ]
  },
  {
   "cell_type": "markdown",
   "metadata": {},
   "source": [
    "# Solution proposée par formateur"
   ]
  },
  {
   "cell_type": "code",
   "execution_count": 46,
   "metadata": {},
   "outputs": [
    {
     "name": "stdout",
     "output_type": "stream",
     "text": [
      "L'adresse christian_martin@gmail.com est valide\n",
      "L'adresse JaiOublieLarobasegmail.com est invalide\n",
      "L'adresse MarieHutchinson03523@yahoo.co.uk est valide\n",
      "L'adresse UnEaDreSSeMail!38BIZarre@unSiTeBizarre.com est valide\n",
      "L'adresse ceciNestPasUneDresseMail est invalide\n"
     ]
    }
   ],
   "source": [
    "\n",
    "for mail in adresses_mail:\n",
    "\tadresse_valide = re.search(r'.+@[a-zA-Z0-9-]+\\.[a-zA-Z-.]+', mail)\n",
    "\tprint(\"L'adresse {} est {}\".format(mail, 'valide' if adresse_valide else 'invalide'))"
   ]
  },
  {
   "cell_type": "code",
   "execution_count": 48,
   "metadata": {},
   "outputs": [
    {
     "name": "stdout",
     "output_type": "stream",
     "text": [
      "1\n"
     ]
    }
   ],
   "source": [
    "for elm in range(1,2):\n",
    "    print(elm)"
   ]
  },
  {
   "cell_type": "code",
   "execution_count": null,
   "metadata": {},
   "outputs": [],
   "source": []
  }
 ],
 "metadata": {
  "kernelspec": {
   "display_name": "Python 3",
   "language": "python",
   "name": "python3"
  },
  "language_info": {
   "codemirror_mode": {
    "name": "ipython",
    "version": 3
   },
   "file_extension": ".py",
   "mimetype": "text/x-python",
   "name": "python",
   "nbconvert_exporter": "python",
   "pygments_lexer": "ipython3",
   "version": "3.7.4"
  }
 },
 "nbformat": 4,
 "nbformat_minor": 4
}
