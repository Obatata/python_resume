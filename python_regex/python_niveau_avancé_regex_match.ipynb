{
 "cells": [
  {
   "cell_type": "markdown",
   "metadata": {},
   "source": [
    "#  Match"
   ]
  },
  {
   "cell_type": "code",
   "execution_count": 14,
   "metadata": {},
   "outputs": [
    {
     "name": "stdout",
     "output_type": "stream",
     "text": [
      "\tBonjour\n",
      "\\tBonjour\n",
      "--\n",
      "------- Match function----------\n",
      "--\n",
      "\n"
     ]
    }
   ],
   "source": [
    "import re \n",
    "\n",
    "### exemple 1 \n",
    "\n",
    "print(\"\\tBonjour\")\n",
    "print(r\"\\tBonjour\")\n",
    "print(\"--\")\n",
    "print(\"------- Match function----------\")\n",
    "print(\"--\")\n",
    "\n",
    "print()\n"
   ]
  },
  {
   "cell_type": "code",
   "execution_count": 15,
   "metadata": {},
   "outputs": [
    {
     "name": "stdout",
     "output_type": "stream",
     "text": [
      "first matching\n",
      "<re.Match object; span=(0, 1), match='P'>\n",
      "print by group\n",
      "P\n"
     ]
    }
   ],
   "source": [
    "\n",
    "\"\"\"\n",
    "match qui s'arrete au premier matching\n",
    "\"\"\"\n",
    "a = re.match(r\".\", \"Pierre Dupont\")\n",
    "print(\"first matching\")\n",
    "print(a)\n",
    "print(\"print by group\")\n",
    "print(a.group(0))\n"
   ]
  },
  {
   "cell_type": "code",
   "execution_count": 16,
   "metadata": {},
   "outputs": [
    {
     "name": "stdout",
     "output_type": "stream",
     "text": [
      " tous les matchs \n",
      "<re.Match object; span=(0, 13), match='Pierre Dupont'>\n",
      "print by group\n",
      "Pierre Dupont\n"
     ]
    }
   ],
   "source": [
    "\"\"\"\n",
    "match qui track tous les matching avec \"+\"\n",
    "\"\"\"\n",
    "a = re.match(r\".+\", \"Pierre Dupont\")\n",
    "print(\" tous les matchs \")\n",
    "print(a)\n",
    "print(\"print by group\")\n",
    "print(a.group(0))\n"
   ]
  },
  {
   "cell_type": "code",
   "execution_count": 18,
   "metadata": {},
   "outputs": [
    {
     "name": "stdout",
     "output_type": "stream",
     "text": [
      "Pierre Dupon\n"
     ]
    }
   ],
   "source": [
    "\"\"\"\n",
    "match qui track tous les maching dans un seul group\n",
    "\"\"\"\n",
    "import re\n",
    "a = re.match(r\"\\w+\\s\\w+\", \"Pierre Dupon\")\n",
    "print(a.group(0))"
   ]
  },
  {
   "cell_type": "code",
   "execution_count": 23,
   "metadata": {},
   "outputs": [
    {
     "name": "stdout",
     "output_type": "stream",
     "text": [
      " tous les matchs \n",
      "<re.Match object; span=(0, 12), match='Pierre Dupon'>\n",
      "print by group\n",
      "Pierre Dupon\n",
      "Pierre\n",
      " \n",
      "Dupon\n"
     ]
    }
   ],
   "source": [
    "\"\"\"\n",
    "fonction match avec les groups ()\n",
    "\"\"\"\n",
    "a = re.match(r\"(\\w+)(\\s)(\\w+)\", \"Pierre Dupon\")\n",
    "print(\" tous les matchs \")\n",
    "print(a)\n",
    "print(\"print by group\")\n",
    "print(a.group(0))\n",
    "print(a.group(1))\n",
    "print(a.group(2))\n",
    "print(a.group(3))"
   ]
  },
  {
   "cell_type": "code",
   "execution_count": null,
   "metadata": {},
   "outputs": [],
   "source": []
  },
  {
   "cell_type": "code",
   "execution_count": 25,
   "metadata": {},
   "outputs": [
    {
     "name": "stdout",
     "output_type": "stream",
     "text": [
      " tous les matchs \n",
      "<re.Match object; span=(0, 12), match='Pierre Dupon'>\n",
      "print by group\n",
      "Pierre\n",
      "Dupon\n",
      "\n",
      "('Pierre', 'Dupon')\n",
      "\n",
      "{'prenom': 'Pierre', 'nom': 'Dupon'}\n"
     ]
    }
   ],
   "source": [
    "\"\"\"\n",
    "la fonction match avec les groups\n",
    "Des noms sont assignés aux groups\n",
    "\"\"\"\n",
    "\n",
    "a = re.match(r\"(?P<prenom>\\w+) (?P<nom>\\w+)\", \"Pierre Dupon\")\n",
    "print(\" tous les matchs \")\n",
    "print(a)\n",
    "print(\"print by group\")\n",
    "print(a.group(\"prenom\"))\n",
    "print(a.group(\"nom\"))\n",
    "\n",
    "\n",
    "print()\n",
    "\n",
    "\"\"\"\n",
    "get tous les groups \n",
    "\"\"\"\n",
    "print(a.groups())\n",
    "print()\n",
    "print(a.groupdict())"
   ]
  },
  {
   "cell_type": "markdown",
   "metadata": {},
   "source": [
    "# EXERCICE"
   ]
  },
  {
   "cell_type": "markdown",
   "metadata": {},
   "source": [
    "## Question 1"
   ]
  },
  {
   "cell_type": "code",
   "execution_count": 35,
   "metadata": {},
   "outputs": [
    {
     "name": "stdout",
     "output_type": "stream",
     "text": [
      "item01\n"
     ]
    }
   ],
   "source": [
    "a = re.match(r'[a-z]+\\d{2}', 'item01')\n",
    "print(a.group())"
   ]
  },
  {
   "cell_type": "markdown",
   "metadata": {},
   "source": [
    "## Question 2"
   ]
  },
  {
   "cell_type": "code",
   "execution_count": 36,
   "metadata": {},
   "outputs": [
    {
     "name": "stdout",
     "output_type": "stream",
     "text": [
      "Pierre Dupont\n"
     ]
    }
   ],
   "source": [
    "a = re.match(r'[a-zA-Z]+\\s\\w+', 'Pierre Dupont')\n",
    "print(a.group())"
   ]
  },
  {
   "cell_type": "markdown",
   "metadata": {},
   "source": [
    "## Question 3"
   ]
  },
  {
   "cell_type": "code",
   "execution_count": 52,
   "metadata": {},
   "outputs": [
    {
     "ename": "AttributeError",
     "evalue": "'NoneType' object has no attribute 'group'",
     "output_type": "error",
     "traceback": [
      "\u001b[1;31m---------------------------------------------------------------------------\u001b[0m",
      "\u001b[1;31mAttributeError\u001b[0m                            Traceback (most recent call last)",
      "\u001b[1;32m<ipython-input-52-7a3a3c582d90>\u001b[0m in \u001b[0;36m<module>\u001b[1;34m\u001b[0m\n\u001b[0;32m      1\u001b[0m \u001b[0ma\u001b[0m \u001b[1;33m=\u001b[0m \u001b[0mre\u001b[0m\u001b[1;33m.\u001b[0m\u001b[0mmatch\u001b[0m\u001b[1;33m(\u001b[0m\u001b[1;34mr'\\s+'\u001b[0m\u001b[1;33m,\u001b[0m \u001b[1;34m'Pierre dupont'\u001b[0m\u001b[1;33m)\u001b[0m\u001b[1;33m\u001b[0m\u001b[1;33m\u001b[0m\u001b[0m\n\u001b[1;32m----> 2\u001b[1;33m \u001b[0mprint\u001b[0m\u001b[1;33m(\u001b[0m\u001b[0ma\u001b[0m\u001b[1;33m.\u001b[0m\u001b[0mgroup\u001b[0m\u001b[1;33m(\u001b[0m\u001b[1;33m)\u001b[0m\u001b[1;33m)\u001b[0m\u001b[1;33m\u001b[0m\u001b[1;33m\u001b[0m\u001b[0m\n\u001b[0m",
      "\u001b[1;31mAttributeError\u001b[0m: 'NoneType' object has no attribute 'group'"
     ]
    }
   ],
   "source": [
    "a = re.match(r'\\s+', 'Pierre dupont')\n",
    "print(a.group())\n",
    "\"\"\"\n",
    "Match invalide : on cherche un espace au début de la chaîne de caractère, \n",
    "mais elle commence par une lettre.\n",
    "\"\"\""
   ]
  },
  {
   "cell_type": "markdown",
   "metadata": {},
   "source": [
    "## Question 4"
   ]
  },
  {
   "cell_type": "code",
   "execution_count": 48,
   "metadata": {},
   "outputs": [
    {
     "name": "stdout",
     "output_type": "stream",
     "text": [
      "pierre\n"
     ]
    }
   ],
   "source": [
    "a = re.match(r'\\w+', 'pierre dupont')\n",
    "print(a.group())"
   ]
  },
  {
   "cell_type": "markdown",
   "metadata": {},
   "source": [
    "## Question 5"
   ]
  },
  {
   "cell_type": "code",
   "execution_count": 49,
   "metadata": {},
   "outputs": [
    {
     "name": "stdout",
     "output_type": "stream",
     "text": [
      "pierre-\n"
     ]
    }
   ],
   "source": [
    "a = re.match(r'\\w+([-+=]?)', 'pierre-dupont')\n",
    "print(a.group())"
   ]
  },
  {
   "cell_type": "markdown",
   "metadata": {},
   "source": [
    "## Question 6"
   ]
  },
  {
   "cell_type": "code",
   "execution_count": 50,
   "metadata": {},
   "outputs": [
    {
     "name": "stdout",
     "output_type": "stream",
     "text": [
      "pierre\n"
     ]
    }
   ],
   "source": [
    "a = re.match(r'\\w+([-+=]?)', 'pierre/dupont')\n",
    "print(a.group())"
   ]
  },
  {
   "cell_type": "markdown",
   "metadata": {},
   "source": [
    "## Question 7"
   ]
  },
  {
   "cell_type": "code",
   "execution_count": 51,
   "metadata": {},
   "outputs": [
    {
     "ename": "AttributeError",
     "evalue": "'NoneType' object has no attribute 'group'",
     "output_type": "error",
     "traceback": [
      "\u001b[1;31m---------------------------------------------------------------------------\u001b[0m",
      "\u001b[1;31mAttributeError\u001b[0m                            Traceback (most recent call last)",
      "\u001b[1;32m<ipython-input-51-fe1b5ca60e41>\u001b[0m in \u001b[0;36m<module>\u001b[1;34m\u001b[0m\n\u001b[0;32m      1\u001b[0m \u001b[0ma\u001b[0m \u001b[1;33m=\u001b[0m \u001b[0mre\u001b[0m\u001b[1;33m.\u001b[0m\u001b[0mmatch\u001b[0m\u001b[1;33m(\u001b[0m\u001b[1;34mr'\\w+([-+=]+)'\u001b[0m\u001b[1;33m,\u001b[0m \u001b[1;34m'pierre/dupont'\u001b[0m\u001b[1;33m)\u001b[0m\u001b[1;33m\u001b[0m\u001b[1;33m\u001b[0m\u001b[0m\n\u001b[1;32m----> 2\u001b[1;33m \u001b[0mprint\u001b[0m\u001b[1;33m(\u001b[0m\u001b[0ma\u001b[0m\u001b[1;33m.\u001b[0m\u001b[0mgroup\u001b[0m\u001b[1;33m(\u001b[0m\u001b[1;33m)\u001b[0m\u001b[1;33m)\u001b[0m\u001b[1;33m\u001b[0m\u001b[1;33m\u001b[0m\u001b[0m\n\u001b[0m",
      "\u001b[1;31mAttributeError\u001b[0m: 'NoneType' object has no attribute 'group'"
     ]
    }
   ],
   "source": [
    "a = re.match(r'\\w+([-+=]+)', 'pierre/dupont')\n",
    "print(a.group())\n",
    "\n",
    "\"\"\"\n",
    "Match invalide : \n",
    "le + cherche si les caractères -, + ou = sont présents au moins une fois ou plus dans la chaîne de caractère.\n",
    "Aucun de ses éléments ne se retrouve dans la chaîne de caractère au moins une fois et donc le match n'est pas valide\n",
    "\"\"\""
   ]
  }
 ],
 "metadata": {
  "kernelspec": {
   "display_name": "Python 3",
   "language": "python",
   "name": "python3"
  },
  "language_info": {
   "codemirror_mode": {
    "name": "ipython",
    "version": 3
   },
   "file_extension": ".py",
   "mimetype": "text/x-python",
   "name": "python",
   "nbconvert_exporter": "python",
   "pygments_lexer": "ipython3",
   "version": "3.7.4"
  }
 },
 "nbformat": 4,
 "nbformat_minor": 4
}
